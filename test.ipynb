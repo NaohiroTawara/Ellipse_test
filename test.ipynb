{
 "cells": [
  {
   "cell_type": "code",
   "execution_count": 2,
   "metadata": {
    "collapsed": false
   },
   "outputs": [
    {
     "data": {
      "image/png": "[encoded data removed]",
      "text/plain": [
       "<matplotlib.figure.Figure at 0x109181a90>"
      ]
     },
     "metadata": {},
     "output_type": "display_data"
    }
   ],
   "source": [
    "# -*- coding: utf-8 -*-\n",
    "%matplotlib inline\n",
    "import math\n",
    "import numpy as np\n",
    "import scipy.linalg\n",
    "from matplotlib import pyplot as plt\n",
    "\n",
    "# 楕円を生成し半分だけ消す\n",
    "# Generate ellipse\n",
    "X=np.array([2*np.cos(np.arange(0,2*math.pi,0.01)),np.sin(np.arange(0,2*math.pi,0.01))]).T\n",
    "\n",
    "# 楕円を４５度回転する\n",
    "# Rotate ellipse\n",
    "theta=np.array([[np.cos(math.pi/4),-np.sin(math.pi/4)], [np.sin(math.pi/4),np.cos(math.pi/4)]])\n",
    "XX=np.dot(X[:300,:],theta)\n",
    "\n",
    "# 回転後の楕円データから、元の直交系から何度回転しているか計算し、元に戻す変換する\n",
    "# Revert rotated ellipse to original one\n",
    "[U,S,V]=scipy.linalg.svd(XX);\n",
    "Y=np.dot(U[:,:2],np.diag(S))\n",
    "\n",
    "# Visualize\n",
    "plt.plot(XX[:,0],XX[:,1],'x');\n",
    "plt.plot(Y[:,0],Y[:,1],'x');\n",
    "plt.xlim(-5,5);plt.ylim(-5,5);\n",
    "plt.legend(['original','estimated'])\n",
    "plt.show()\n"
   ]
  },
  {
   "cell_type": "code",
   "execution_count": null,
   "metadata": {
    "collapsed": true
   },
   "outputs": [],
   "source": []
  }
 ],
 "metadata": {
  "kernelspec": {
   "display_name": "Python 2",
   "language": "python",
   "name": "python2"
  },
  "language_info": {
   "codemirror_mode": {
    "name": "ipython",
    "version": 2
   },
   "file_extension": ".py",
   "mimetype": "text/x-python",
   "name": "python",
   "nbconvert_exporter": "python",
   "pygments_lexer": "ipython2",
   "version": "2.7.12"
  }
 },
 "nbformat": 4,
 "nbformat_minor": 0
}
