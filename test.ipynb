{
 "cells": [
  {
   "cell_type": "code",
   "execution_count": 23,
   "metadata": {
    "collapsed": false
   },
   "outputs": [
    {
     "data": {
      "image/png": "[encoded data removed]",
      "text/plain": [
       "<matplotlib.figure.Figure at 0x107062cd0>"
      ]
     },
     "metadata": {},
     "output_type": "display_data"
    }
   ],
   "source": [
    "# -*- coding: utf-8 -*-\n",
    "%matplotlib inline\n",
    "import math\n",
    "import numpy as np\n",
    "import scipy.linalg\n",
    "from matplotlib import pyplot as plt\n",
    "\n",
    "# 楕円を生成し半分だけ消す\n",
    "# Generate ellipse\n",
    "X=np.array([2*np.cos(np.arange(0,2*math.pi,0.01)),np.sin(np.arange(0,2*math.pi,0.01))]).T\n",
    "# add noise\n",
    "X=X+np.random.normal(0,0.1,X.shape)\n",
    "\n",
    "# 楕円を４５度回転する\n",
    "# Rotate ellipse\n",
    "theta=np.array([[np.cos(math.pi/4),-np.sin(math.pi/4)], [np.sin(math.pi/4),np.cos(math.pi/4)]])\n",
    "XX=np.dot(X[:300,:],theta)\n",
    "# Centerize data\n",
    "XX = XX-np.dot(np.matrix(np.ones(len(XX))).T,np.matrix(np.mean(XX,0)))\n",
    "\n",
    "# 回転後の楕円データから、元の直交系から何度回転しているか計算し、元に戻す\n",
    "# Revert rotated ellipse to original one\n",
    "[U,S,V]=scipy.linalg.svd(XX);\n",
    "Y=np.dot(U[:,:2],np.diag(S))\n",
    "\n",
    "# Visualize\n",
    "plt.plot(XX[:,0],XX[:,1],'x');\n",
    "plt.plot(Y[:,0],Y[:,1],'x');\n",
    "plt.xlim(-5,5);plt.ylim(-5,5);\n",
    "plt.legend(['original','estimated'])\n",
    "plt.show()\n"
   ]
  },
  {
   "cell_type": "code",
   "execution_count": 3,
   "metadata": {
    "collapsed": false
   },
   "outputs": [
    {
     "data": {
      "text/plain": [
       "(629, 2)"
      ]
     },
     "execution_count": 3,
     "metadata": {},
     "output_type": "execute_result"
    }
   ],
   "source": [
    "X.shape"
   ]
  },
  {
   "cell_type": "code",
   "execution_count": 21,
   "metadata": {
    "collapsed": false
   },
   "outputs": [
    {
     "data": {
      "text/plain": [
       "matrix([[ 1.90829692, -0.07292785],\n",
       "        [ 2.05481811,  0.00264243],\n",
       "        [ 1.88876583,  0.06591039],\n",
       "        ..., \n",
       "        [ 2.16395175, -0.07443491],\n",
       "        [ 2.15748735, -0.11311062],\n",
       "        [ 1.93234123, -0.12908255]])"
      ]
     },
     "execution_count": 21,
     "metadata": {},
     "output_type": "execute_result"
    }
   ],
   "source": [
    "X = X-np.dot(np.matrix(np.ones(len(X))).T,np.matrix(np.mean(X,0)))"
   ]
  },
  {
   "cell_type": "code",
   "execution_count": 12,
   "metadata": {
    "collapsed": false
   },
   "outputs": [
    {
     "data": {
      "text/plain": [
       "(629, 1)"
      ]
     },
     "execution_count": 12,
     "metadata": {},
     "output_type": "execute_result"
    }
   ],
   "source": [
    "np.matrix(np.ones(len(X))).T.shape"
   ]
  },
  {
   "cell_type": "code",
   "execution_count": 16,
   "metadata": {
    "collapsed": false
   },
   "outputs": [
    {
     "data": {
      "text/plain": [
       "(1, 2)"
      ]
     },
     "execution_count": 16,
     "metadata": {},
     "output_type": "execute_result"
    }
   ],
   "source": [
    "np.matrix(np.mean(X,0)).shape"
   ]
  },
  {
   "cell_type": "code",
   "execution_count": null,
   "metadata": {
    "collapsed": true
   },
   "outputs": [],
   "source": []
  }
 ],
 "metadata": {
  "kernelspec": {
   "display_name": "Python 2",
   "language": "python",
   "name": "python2"
  },
  "language_info": {
   "codemirror_mode": {
    "name": "ipython",
    "version": 2
   },
   "file_extension": ".py",
   "mimetype": "text/x-python",
   "name": "python",
   "nbconvert_exporter": "python",
   "pygments_lexer": "ipython2",
   "version": "2.7.12"
  }
 },
 "nbformat": 4,
 "nbformat_minor": 0
}
